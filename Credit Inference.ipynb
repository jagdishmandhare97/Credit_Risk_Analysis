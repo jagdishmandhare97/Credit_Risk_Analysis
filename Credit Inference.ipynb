{
 "cells": [
  {
   "cell_type": "code",
   "execution_count": 1,
   "id": "24ba187c",
   "metadata": {},
   "outputs": [],
   "source": [
    "import pickle \n",
    "import os\n",
    "import pandas as pd\n",
    "import numpy as np"
   ]
  },
  {
   "cell_type": "code",
   "execution_count": 2,
   "id": "bee89a5d",
   "metadata": {},
   "outputs": [],
   "source": [
    "model_path = r\"E:\\My Project\\Credit Risk Analysis\\Model\\random_forest_classifier_score_0_931_v1.pkl\"\n",
    "\n",
    "model = pickle.load(open(model_path, \"rb\"))"
   ]
  },
  {
   "cell_type": "code",
   "execution_count": 4,
   "id": "b3ce16c9",
   "metadata": {},
   "outputs": [
    {
     "data": {
      "text/plain": [
       "[0, 1]"
      ]
     },
     "execution_count": 4,
     "metadata": {},
     "output_type": "execute_result"
    }
   ],
   "source": [
    "data = [\n",
    "    [-0.93317905,  0.02058523, -0.89191178,  0.0903744 , -1.35711867,\n",
    "       -1.04768608, -0.03214933, -1.63484027, -0.46449265, -0.44799031],\n",
    "   [ 4.11291725, -0.38838182, -0.89191178, -0.71473133, -0.14614405,\n",
    "         3.24085992, 41.29068003,  0.15722103,  2.15288658, -1.18633098]\n",
    "]\n",
    "\n",
    "prediction = model.predict(data)\n",
    "list(prediction)"
   ]
  },
  {
   "cell_type": "markdown",
   "id": "81de912c",
   "metadata": {},
   "source": [
    "## Load SC"
   ]
  },
  {
   "cell_type": "code",
   "execution_count": 5,
   "id": "d1e28f9c",
   "metadata": {},
   "outputs": [],
   "source": [
    "sc_dump_path = r\"E:\\My Project\\Credit Risk Analysis\\Model\\sc.pkl\"\n",
    "\n",
    "sc = pickle.load(open(sc_dump_path, \"rb\"))"
   ]
  },
  {
   "cell_type": "code",
   "execution_count": 6,
   "id": "889cab13",
   "metadata": {},
   "outputs": [
    {
     "data": {
      "text/plain": [
       "StandardScaler()"
      ]
     },
     "execution_count": 6,
     "metadata": {},
     "output_type": "execute_result"
    }
   ],
   "source": [
    "sc"
   ]
  },
  {
   "cell_type": "markdown",
   "id": "dd3eaf5b",
   "metadata": {},
   "source": [
    "### User Input Data"
   ]
  },
  {
   "cell_type": "code",
   "execution_count": 7,
   "id": "a96eb434",
   "metadata": {},
   "outputs": [],
   "source": [
    "person_age = 33\n",
    "person_income = 850000\n",
    "person_home_ownership = 'OWN'\n",
    "person_emp_length = 5\n",
    "loan_intent = 'PERSONAL'\n",
    "loan_grade = 'A'\n",
    "loan_amnt = 250000\n",
    "loan_int_rate = 11.50\n",
    "cb_person_default_on_file = 'N'\n",
    "cb_person_cred_hist_length = 4"
   ]
  },
  {
   "cell_type": "markdown",
   "id": "58cb4b47",
   "metadata": {},
   "source": [
    "### Converting Data into Model Consumable Format"
   ]
  },
  {
   "cell_type": "code",
   "execution_count": 8,
   "id": "1a411f94",
   "metadata": {},
   "outputs": [],
   "source": [
    "# Making Dictionary Format For Categorical features\n",
    "\n",
    "person_home_ownership_dic = {'RENT':1,'MORTGAGE':2,'OWN':3,'OTHER':4}\n",
    "\n",
    "loan_intent_dic = {'EDUCATION':1,'MEDICAL':2,'VENTURE':3,'PERSONAL':4,'DEBTCONSOLIDATION':5,'HOMEIMPROVEMENT':6}\n",
    "\n",
    "cb_person_default_on_file_dic = {'N':0,'Y':1}\n",
    "\n",
    "loan_grade_dic = {'A':1,'B':2,'C':3,'D':4,'E':5,'F':6,'G':7}"
   ]
  },
  {
   "cell_type": "code",
   "execution_count": 9,
   "id": "931af32c",
   "metadata": {},
   "outputs": [
    {
     "data": {
      "text/plain": [
       "[33, 850000, 3, 5, 4, 1, 250000, 11.5, 0, 4]"
      ]
     },
     "execution_count": 9,
     "metadata": {},
     "output_type": "execute_result"
    }
   ],
   "source": [
    "input_for_pred = [person_age, person_income, person_home_ownership_dic[person_home_ownership],\n",
    "       person_emp_length, loan_intent_dic[loan_intent], loan_grade_dic[loan_grade], loan_amnt,\n",
    "       loan_int_rate, cb_person_default_on_file_dic[cb_person_default_on_file],\n",
    "       cb_person_cred_hist_length]\n",
    "\n",
    "input_for_pred"
   ]
  },
  {
   "cell_type": "code",
   "execution_count": 10,
   "id": "9e0ddfb7",
   "metadata": {},
   "outputs": [
    {
     "data": {
      "text/html": [
       "<div>\n",
       "<style scoped>\n",
       "    .dataframe tbody tr th:only-of-type {\n",
       "        vertical-align: middle;\n",
       "    }\n",
       "\n",
       "    .dataframe tbody tr th {\n",
       "        vertical-align: top;\n",
       "    }\n",
       "\n",
       "    .dataframe thead th {\n",
       "        text-align: right;\n",
       "    }\n",
       "</style>\n",
       "<table border=\"1\" class=\"dataframe\">\n",
       "  <thead>\n",
       "    <tr style=\"text-align: right;\">\n",
       "      <th></th>\n",
       "      <th>person_age</th>\n",
       "      <th>person_income</th>\n",
       "      <th>person_home_ownership</th>\n",
       "      <th>person_emp_length</th>\n",
       "      <th>loan_intent</th>\n",
       "      <th>loan_grade</th>\n",
       "      <th>loan_amnt</th>\n",
       "      <th>loan_int_rate</th>\n",
       "      <th>cb_person_default_on_file</th>\n",
       "      <th>cb_person_cred_hist_length</th>\n",
       "    </tr>\n",
       "  </thead>\n",
       "  <tbody>\n",
       "    <tr>\n",
       "      <th>0</th>\n",
       "      <td>33</td>\n",
       "      <td>850000</td>\n",
       "      <td>3</td>\n",
       "      <td>5</td>\n",
       "      <td>4</td>\n",
       "      <td>1</td>\n",
       "      <td>250000</td>\n",
       "      <td>11.5</td>\n",
       "      <td>0</td>\n",
       "      <td>4</td>\n",
       "    </tr>\n",
       "  </tbody>\n",
       "</table>\n",
       "</div>"
      ],
      "text/plain": [
       "   person_age  person_income  person_home_ownership  person_emp_length  \\\n",
       "0          33         850000                      3                  5   \n",
       "\n",
       "   loan_intent  loan_grade  loan_amnt  loan_int_rate  \\\n",
       "0            4           1     250000           11.5   \n",
       "\n",
       "   cb_person_default_on_file  cb_person_cred_hist_length  \n",
       "0                          0                           4  "
      ]
     },
     "execution_count": 10,
     "metadata": {},
     "output_type": "execute_result"
    }
   ],
   "source": [
    "df_column = ['person_age', 'person_income', 'person_home_ownership',\n",
    "       'person_emp_length', 'loan_intent', 'loan_grade', 'loan_amnt',\n",
    "       'loan_int_rate', 'cb_person_default_on_file',\n",
    "       'cb_person_cred_hist_length']\n",
    "\n",
    "df_inputs = pd.DataFrame([input_for_pred], columns = df_column)\n",
    "df_inputs"
   ]
  },
  {
   "cell_type": "code",
   "execution_count": 12,
   "id": "9553ea4a",
   "metadata": {},
   "outputs": [
    {
     "name": "stderr",
     "output_type": "stream",
     "text": [
      "C:\\Users\\as\\anaconda3\\lib\\site-packages\\sklearn\\base.py:450: UserWarning: X does not have valid feature names, but StandardScaler was fitted with feature names\n",
      "  warnings.warn(\n"
     ]
    },
    {
     "data": {
      "text/plain": [
       "array([[ 0.85737125, 24.77882143,  2.18870847,  0.0903744 ,  0.45934326,\n",
       "        -1.04768608, 41.29068003,  0.15722103, -0.46449265, -0.44799031]])"
      ]
     },
     "execution_count": 12,
     "metadata": {},
     "output_type": "execute_result"
    }
   ],
   "source": [
    "# Scaled Data For Prediction\n",
    "\n",
    "sc_data_for_pred = sc.transform([input_for_pred])\n",
    "sc_data_for_pred"
   ]
  },
  {
   "cell_type": "markdown",
   "id": "502e4627",
   "metadata": {},
   "source": [
    "### Predictiction in Deploymnet"
   ]
  },
  {
   "cell_type": "code",
   "execution_count": 17,
   "id": "ed13e550",
   "metadata": {},
   "outputs": [
    {
     "name": "stdout",
     "output_type": "stream",
     "text": [
      "Loan Status Of A Person is : 0\n",
      "0 is Non Default & 1 is Default\n"
     ]
    }
   ],
   "source": [
    "print(f\"Loan Status Of A Person is : {round(model.predict(sc_data_for_pred).tolist()[0])}\")\n",
    "print('0 is Non Default & 1 is Default')"
   ]
  }
 ],
 "metadata": {
  "kernelspec": {
   "display_name": "Python 3 (ipykernel)",
   "language": "python",
   "name": "python3"
  },
  "language_info": {
   "codemirror_mode": {
    "name": "ipython",
    "version": 3
   },
   "file_extension": ".py",
   "mimetype": "text/x-python",
   "name": "python",
   "nbconvert_exporter": "python",
   "pygments_lexer": "ipython3",
   "version": "3.9.12"
  }
 },
 "nbformat": 4,
 "nbformat_minor": 5
}
